{
  "nbformat": 4,
  "nbformat_minor": 0,
  "metadata": {
    "colab": {
      "name": "digit_mnist_ann",
      "provenance": [],
      "collapsed_sections": []
    },
    "kernelspec": {
      "name": "python3",
      "display_name": "Python 3"
    },
    "language_info": {
      "name": "python"
    }
  },
  "cells": [
    {
      "cell_type": "code",
      "metadata": {
        "id": "M6pPrIyLNG9Q"
      },
      "source": [
        "import numpy as np\n",
        "import pandas as pd\n",
        "%matplotlib inline\n",
        "import matplotlib as mpl\n",
        "import matplotlib.pyplot as plt"
      ],
      "execution_count": null,
      "outputs": []
    },
    {
      "cell_type": "code",
      "metadata": {
        "id": "aANka0ojN35l"
      },
      "source": [
        "import tensorflow as tf\n",
        "from tensorflow import keras"
      ],
      "execution_count": null,
      "outputs": []
    },
    {
      "cell_type": "code",
      "metadata": {
        "colab": {
          "base_uri": "https://localhost:8080/",
          "height": 35
        },
        "id": "UkPOcJePr1yU",
        "outputId": "15279e0a-bff3-48b3-f057-2c47862354b2"
      },
      "source": [
        "tf.__version__"
      ],
      "execution_count": null,
      "outputs": [
        {
          "output_type": "execute_result",
          "data": {
            "application/vnd.google.colaboratory.intrinsic+json": {
              "type": "string"
            },
            "text/plain": [
              "'2.6.0'"
            ]
          },
          "metadata": {},
          "execution_count": 3
        }
      ]
    },
    {
      "cell_type": "code",
      "metadata": {
        "colab": {
          "base_uri": "https://localhost:8080/",
          "height": 35
        },
        "id": "GFcc_jfMODVH",
        "outputId": "9687abbf-7a14-47fc-83aa-bead86efacef"
      },
      "source": [
        "keras.__version__"
      ],
      "execution_count": null,
      "outputs": [
        {
          "output_type": "execute_result",
          "data": {
            "application/vnd.google.colaboratory.intrinsic+json": {
              "type": "string"
            },
            "text/plain": [
              "'2.6.0'"
            ]
          },
          "metadata": {},
          "execution_count": 4
        }
      ]
    },
    {
      "cell_type": "code",
      "metadata": {
        "id": "9kh1x8VUON6Z",
        "colab": {
          "base_uri": "https://localhost:8080/"
        },
        "outputId": "665dd4d1-ba5c-4c65-8352-ce50f86e392a"
      },
      "source": [
        "digit_mnist = keras.datasets.mnist\n",
        "(X_train_full, y_train_full), (X_test, y_test) = digit_mnist.load_data()"
      ],
      "execution_count": null,
      "outputs": [
        {
          "output_type": "stream",
          "name": "stdout",
          "text": [
            "Downloading data from https://storage.googleapis.com/tensorflow/tf-keras-datasets/mnist.npz\n",
            "11493376/11490434 [==============================] - 0s 0us/step\n",
            "11501568/11490434 [==============================] - 0s 0us/step\n"
          ]
        }
      ]
    },
    {
      "cell_type": "code",
      "metadata": {
        "colab": {
          "base_uri": "https://localhost:8080/",
          "height": 282
        },
        "id": "_wobkPJDOkMn",
        "outputId": "508b7425-81b3-4f8e-9686-94083d07501e"
      },
      "source": [
        "plt.imshow(X_train_full[1])"
      ],
      "execution_count": null,
      "outputs": [
        {
          "output_type": "execute_result",
          "data": {
            "text/plain": [
              "<matplotlib.image.AxesImage at 0x7f4898074c90>"
            ]
          },
          "metadata": {},
          "execution_count": 6
        },
        {
          "output_type": "display_data",
          "data": {
            "image/png": "[encoded data removed]",
            "text/plain": [
              "<Figure size 432x288 with 1 Axes>"
            ]
          },
          "metadata": {
            "needs_background": "light"
          }
        }
      ]
    },
    {
      "cell_type": "code",
      "metadata": {
        "colab": {
          "base_uri": "https://localhost:8080/"
        },
        "id": "Zm-3VUs_PaG9",
        "outputId": "b20cdbc3-e4cf-4a26-e761-3966ac65189d"
      },
      "source": [
        "y_train_full[1]"
      ],
      "execution_count": null,
      "outputs": [
        {
          "output_type": "execute_result",
          "data": {
            "text/plain": [
              "0"
            ]
          },
          "metadata": {},
          "execution_count": 7
        }
      ]
    },
    {
      "cell_type": "code",
      "metadata": {
        "id": "3fhmF1DXPiil"
      },
      "source": [
        "class_names = [\"0\",\"1\",\"2\",\"3\",\"4\",\"5\",\"6\",\"7\",\"8\",\"9\"]"
      ],
      "execution_count": null,
      "outputs": []
    },
    {
      "cell_type": "code",
      "metadata": {
        "colab": {
          "base_uri": "https://localhost:8080/",
          "height": 35
        },
        "id": "3p30yD4hQBgw",
        "outputId": "a2070423-2260-4e52-c1f1-50108728fa8f"
      },
      "source": [
        "class_names[y_train_full[1]]"
      ],
      "execution_count": null,
      "outputs": [
        {
          "output_type": "execute_result",
          "data": {
            "application/vnd.google.colaboratory.intrinsic+json": {
              "type": "string"
            },
            "text/plain": [
              "'0'"
            ]
          },
          "metadata": {},
          "execution_count": 9
        }
      ]
    },
    {
      "cell_type": "markdown",
      "metadata": {
        "id": "PMIdx8sut4yy"
      },
      "source": [
        "**DATA NORMALIZATION**\n"
      ]
    },
    {
      "cell_type": "code",
      "metadata": {
        "id": "-yCsnXm4Rc9u"
      },
      "source": [
        "X_train_n = X_train_full/255.0\n",
        "X_test_n = X_test/255.0"
      ],
      "execution_count": null,
      "outputs": []
    },
    {
      "cell_type": "code",
      "metadata": {
        "id": "Pqe-fD-_R6P8"
      },
      "source": [
        "X_valid, X_train = X_train_n[:6000], X_train_n[6000:]\n",
        "y_valid, y_train = y_train_full[:6000], y_train_full[6000:]\n",
        "X_test = X_test_n"
      ],
      "execution_count": null,
      "outputs": []
    },
    {
      "cell_type": "code",
      "metadata": {
        "id": "NJuuOv2jS0pq",
        "colab": {
          "base_uri": "https://localhost:8080/"
        },
        "outputId": "f6db8bf8-c41b-432b-b0d3-33323dd31f20"
      },
      "source": [
        "X_valid[0]"
      ],
      "execution_count": null,
      "outputs": [
        {
          "output_type": "execute_result",
          "data": {
            "text/plain": [
              "array([[0.        , 0.        , 0.        , 0.        , 0.        ,\n",
              "        0.        , 0.        , 0.        , 0.        , 0.        ,\n",
              "        0.        , 0.        , 0.        , 0.        , 0.        ,\n",
              "        0.        , 0.        , 0.        , 0.        , 0.        ,\n",
              "        0.        , 0.        , 0.        , 0.        , 0.        ,\n",
              "        0.        , 0.        , 0.        ],\n",
              "       [0.        , 0.        , 0.        , 0.        , 0.        ,\n",
              "        0.        , 0.        , 0.        , 0.        , 0.        ,\n",
              "        0.        , 0.        , 0.        , 0.        , 0.        ,\n",
              "        0.        , 0.        , 0.        , 0.        , 0.        ,\n",
              "        0.        , 0.        , 0.        , 0.        , 0.        ,\n",
              "        0.        , 0.        , 0.        ],\n",
              "       [0.        , 0.        , 0.        , 0.        , 0.        ,\n",
              "        0.        , 0.        , 0.        , 0.        , 0.        ,\n",
              "        0.        , 0.        , 0.        , 0.        , 0.        ,\n",
              "        0.        , 0.        , 0.        , 0.        , 0.        ,\n",
              "        0.        , 0.        , 0.        , 0.        , 0.        ,\n",
              "        0.        , 0.        , 0.        ],\n",
              "       [0.        , 0.        , 0.        , 0.        , 0.        ,\n",
              "        0.        , 0.        , 0.        , 0.        , 0.        ,\n",
              "        0.        , 0.        , 0.        , 0.        , 0.        ,\n",
              "        0.        , 0.        , 0.        , 0.        , 0.        ,\n",
              "        0.        , 0.        , 0.        , 0.        , 0.        ,\n",
              "        0.        , 0.        , 0.        ],\n",
              "       [0.        , 0.        , 0.        , 0.        , 0.        ,\n",
              "        0.        , 0.        , 0.        , 0.        , 0.        ,\n",
              "        0.        , 0.        , 0.        , 0.        , 0.        ,\n",
              "        0.        , 0.        , 0.        , 0.        , 0.        ,\n",
              "        0.        , 0.        , 0.        , 0.        , 0.        ,\n",
              "        0.        , 0.        , 0.        ],\n",
              "       [0.        , 0.        , 0.        , 0.        , 0.        ,\n",
              "        0.        , 0.        , 0.        , 0.        , 0.        ,\n",
              "        0.        , 0.        , 0.01176471, 0.07058824, 0.07058824,\n",
              "        0.07058824, 0.49411765, 0.53333333, 0.68627451, 0.10196078,\n",
              "        0.65098039, 1.        , 0.96862745, 0.49803922, 0.        ,\n",
              "        0.        , 0.        , 0.        ],\n",
              "       [0.        , 0.        , 0.        , 0.        , 0.        ,\n",
              "        0.        , 0.        , 0.        , 0.11764706, 0.14117647,\n",
              "        0.36862745, 0.60392157, 0.66666667, 0.99215686, 0.99215686,\n",
              "        0.99215686, 0.99215686, 0.99215686, 0.88235294, 0.6745098 ,\n",
              "        0.99215686, 0.94901961, 0.76470588, 0.25098039, 0.        ,\n",
              "        0.        , 0.        , 0.        ],\n",
              "       [0.        , 0.        , 0.        , 0.        , 0.        ,\n",
              "        0.        , 0.        , 0.19215686, 0.93333333, 0.99215686,\n",
              "        0.99215686, 0.99215686, 0.99215686, 0.99215686, 0.99215686,\n",
              "        0.99215686, 0.99215686, 0.98431373, 0.36470588, 0.32156863,\n",
              "        0.32156863, 0.21960784, 0.15294118, 0.        , 0.        ,\n",
              "        0.        , 0.        , 0.        ],\n",
              "       [0.        , 0.        , 0.        , 0.        , 0.        ,\n",
              "        0.        , 0.        , 0.07058824, 0.85882353, 0.99215686,\n",
              "        0.99215686, 0.99215686, 0.99215686, 0.99215686, 0.77647059,\n",
              "        0.71372549, 0.96862745, 0.94509804, 0.        , 0.        ,\n",
              "        0.        , 0.        , 0.        , 0.        , 0.        ,\n",
              "        0.        , 0.        , 0.        ],\n",
              "       [0.        , 0.        , 0.        , 0.        , 0.        ,\n",
              "        0.        , 0.        , 0.        , 0.31372549, 0.61176471,\n",
              "        0.41960784, 0.99215686, 0.99215686, 0.80392157, 0.04313725,\n",
              "        0.        , 0.16862745, 0.60392157, 0.        , 0.        ,\n",
              "        0.        , 0.        , 0.        , 0.        , 0.        ,\n",
              "        0.        , 0.        , 0.        ],\n",
              "       [0.        , 0.        , 0.        , 0.        , 0.        ,\n",
              "        0.        , 0.        , 0.        , 0.        , 0.05490196,\n",
              "        0.00392157, 0.60392157, 0.99215686, 0.35294118, 0.        ,\n",
              "        0.        , 0.        , 0.        , 0.        , 0.        ,\n",
              "        0.        , 0.        , 0.        , 0.        , 0.        ,\n",
              "        0.        , 0.        , 0.        ],\n",
              "       [0.        , 0.        , 0.        , 0.        , 0.        ,\n",
              "        0.        , 0.        , 0.        , 0.        , 0.        ,\n",
              "        0.        , 0.54509804, 0.99215686, 0.74509804, 0.00784314,\n",
              "        0.        , 0.        , 0.        , 0.        , 0.        ,\n",
              "        0.        , 0.        , 0.        , 0.        , 0.        ,\n",
              "        0.        , 0.        , 0.        ],\n",
              "       [0.        , 0.        , 0.        , 0.        , 0.        ,\n",
              "        0.        , 0.        , 0.        , 0.        , 0.        ,\n",
              "        0.        , 0.04313725, 0.74509804, 0.99215686, 0.2745098 ,\n",
              "        0.        , 0.        , 0.        , 0.        , 0.        ,\n",
              "        0.        , 0.        , 0.        , 0.        , 0.        ,\n",
              "        0.        , 0.        , 0.        ],\n",
              "       [0.        , 0.        , 0.        , 0.        , 0.        ,\n",
              "        0.        , 0.        , 0.        , 0.        , 0.        ,\n",
              "        0.        , 0.        , 0.1372549 , 0.94509804, 0.88235294,\n",
              "        0.62745098, 0.42352941, 0.00392157, 0.        , 0.        ,\n",
              "        0.        , 0.        , 0.        , 0.        , 0.        ,\n",
              "        0.        , 0.        , 0.        ],\n",
              "       [0.        , 0.        , 0.        , 0.        , 0.        ,\n",
              "        0.        , 0.        , 0.        , 0.        , 0.        ,\n",
              "        0.        , 0.        , 0.        , 0.31764706, 0.94117647,\n",
              "        0.99215686, 0.99215686, 0.46666667, 0.09803922, 0.        ,\n",
              "        0.        , 0.        , 0.        , 0.        , 0.        ,\n",
              "        0.        , 0.        , 0.        ],\n",
              "       [0.        , 0.        , 0.        , 0.        , 0.        ,\n",
              "        0.        , 0.        , 0.        , 0.        , 0.        ,\n",
              "        0.        , 0.        , 0.        , 0.        , 0.17647059,\n",
              "        0.72941176, 0.99215686, 0.99215686, 0.58823529, 0.10588235,\n",
              "        0.        , 0.        , 0.        , 0.        , 0.        ,\n",
              "        0.        , 0.        , 0.        ],\n",
              "       [0.        , 0.        , 0.        , 0.        , 0.        ,\n",
              "        0.        , 0.        , 0.        , 0.        , 0.        ,\n",
              "        0.        , 0.        , 0.        , 0.        , 0.        ,\n",
              "        0.0627451 , 0.36470588, 0.98823529, 0.99215686, 0.73333333,\n",
              "        0.        , 0.        , 0.        , 0.        , 0.        ,\n",
              "        0.        , 0.        , 0.        ],\n",
              "       [0.        , 0.        , 0.        , 0.        , 0.        ,\n",
              "        0.        , 0.        , 0.        , 0.        , 0.        ,\n",
              "        0.        , 0.        , 0.        , 0.        , 0.        ,\n",
              "        0.        , 0.        , 0.97647059, 0.99215686, 0.97647059,\n",
              "        0.25098039, 0.        , 0.        , 0.        , 0.        ,\n",
              "        0.        , 0.        , 0.        ],\n",
              "       [0.        , 0.        , 0.        , 0.        , 0.        ,\n",
              "        0.        , 0.        , 0.        , 0.        , 0.        ,\n",
              "        0.        , 0.        , 0.        , 0.        , 0.18039216,\n",
              "        0.50980392, 0.71764706, 0.99215686, 0.99215686, 0.81176471,\n",
              "        0.00784314, 0.        , 0.        , 0.        , 0.        ,\n",
              "        0.        , 0.        , 0.        ],\n",
              "       [0.        , 0.        , 0.        , 0.        , 0.        ,\n",
              "        0.        , 0.        , 0.        , 0.        , 0.        ,\n",
              "        0.        , 0.        , 0.15294118, 0.58039216, 0.89803922,\n",
              "        0.99215686, 0.99215686, 0.99215686, 0.98039216, 0.71372549,\n",
              "        0.        , 0.        , 0.        , 0.        , 0.        ,\n",
              "        0.        , 0.        , 0.        ],\n",
              "       [0.        , 0.        , 0.        , 0.        , 0.        ,\n",
              "        0.        , 0.        , 0.        , 0.        , 0.        ,\n",
              "        0.09411765, 0.44705882, 0.86666667, 0.99215686, 0.99215686,\n",
              "        0.99215686, 0.99215686, 0.78823529, 0.30588235, 0.        ,\n",
              "        0.        , 0.        , 0.        , 0.        , 0.        ,\n",
              "        0.        , 0.        , 0.        ],\n",
              "       [0.        , 0.        , 0.        , 0.        , 0.        ,\n",
              "        0.        , 0.        , 0.        , 0.09019608, 0.25882353,\n",
              "        0.83529412, 0.99215686, 0.99215686, 0.99215686, 0.99215686,\n",
              "        0.77647059, 0.31764706, 0.00784314, 0.        , 0.        ,\n",
              "        0.        , 0.        , 0.        , 0.        , 0.        ,\n",
              "        0.        , 0.        , 0.        ],\n",
              "       [0.        , 0.        , 0.        , 0.        , 0.        ,\n",
              "        0.        , 0.07058824, 0.67058824, 0.85882353, 0.99215686,\n",
              "        0.99215686, 0.99215686, 0.99215686, 0.76470588, 0.31372549,\n",
              "        0.03529412, 0.        , 0.        , 0.        , 0.        ,\n",
              "        0.        , 0.        , 0.        , 0.        , 0.        ,\n",
              "        0.        , 0.        , 0.        ],\n",
              "       [0.        , 0.        , 0.        , 0.        , 0.21568627,\n",
              "        0.6745098 , 0.88627451, 0.99215686, 0.99215686, 0.99215686,\n",
              "        0.99215686, 0.95686275, 0.52156863, 0.04313725, 0.        ,\n",
              "        0.        , 0.        , 0.        , 0.        , 0.        ,\n",
              "        0.        , 0.        , 0.        , 0.        , 0.        ,\n",
              "        0.        , 0.        , 0.        ],\n",
              "       [0.        , 0.        , 0.        , 0.        , 0.53333333,\n",
              "        0.99215686, 0.99215686, 0.99215686, 0.83137255, 0.52941176,\n",
              "        0.51764706, 0.0627451 , 0.        , 0.        , 0.        ,\n",
              "        0.        , 0.        , 0.        , 0.        , 0.        ,\n",
              "        0.        , 0.        , 0.        , 0.        , 0.        ,\n",
              "        0.        , 0.        , 0.        ],\n",
              "       [0.        , 0.        , 0.        , 0.        , 0.        ,\n",
              "        0.        , 0.        , 0.        , 0.        , 0.        ,\n",
              "        0.        , 0.        , 0.        , 0.        , 0.        ,\n",
              "        0.        , 0.        , 0.        , 0.        , 0.        ,\n",
              "        0.        , 0.        , 0.        , 0.        , 0.        ,\n",
              "        0.        , 0.        , 0.        ],\n",
              "       [0.        , 0.        , 0.        , 0.        , 0.        ,\n",
              "        0.        , 0.        , 0.        , 0.        , 0.        ,\n",
              "        0.        , 0.        , 0.        , 0.        , 0.        ,\n",
              "        0.        , 0.        , 0.        , 0.        , 0.        ,\n",
              "        0.        , 0.        , 0.        , 0.        , 0.        ,\n",
              "        0.        , 0.        , 0.        ],\n",
              "       [0.        , 0.        , 0.        , 0.        , 0.        ,\n",
              "        0.        , 0.        , 0.        , 0.        , 0.        ,\n",
              "        0.        , 0.        , 0.        , 0.        , 0.        ,\n",
              "        0.        , 0.        , 0.        , 0.        , 0.        ,\n",
              "        0.        , 0.        , 0.        , 0.        , 0.        ,\n",
              "        0.        , 0.        , 0.        ]])"
            ]
          },
          "metadata": {},
          "execution_count": 12
        }
      ]
    },
    {
      "cell_type": "code",
      "metadata": {
        "id": "1Ous0DcXWlVg"
      },
      "source": [
        "np.random.seed(42)\n",
        "tf.random.set_seed(42)"
      ],
      "execution_count": null,
      "outputs": []
    },
    {
      "cell_type": "code",
      "metadata": {
        "id": "p52Xh_eWXCRA"
      },
      "source": [
        "model  = keras.models.Sequential()\n",
        "model.add(keras.layers.Flatten(input_shape = [28,28]))\n",
        "model.add(keras.layers.Dense(200, activation = \"relu\"))\n",
        "model.add(keras.layers.Dense(100, activation = \"relu\"))\n",
        "model.add(keras.layers.Dense(10, activation = \"softmax\"))"
      ],
      "execution_count": null,
      "outputs": []
    },
    {
      "cell_type": "code",
      "metadata": {
        "colab": {
          "base_uri": "https://localhost:8080/"
        },
        "id": "VC6rZ0WFYIfX",
        "outputId": "8f0ed51c-26f0-4a73-9314-89589b89dc6f"
      },
      "source": [
        "model.summary()"
      ],
      "execution_count": null,
      "outputs": [
        {
          "output_type": "stream",
          "name": "stdout",
          "text": [
            "Model: \"sequential\"\n",
            "_________________________________________________________________\n",
            "Layer (type)                 Output Shape              Param #   \n",
            "=================================================================\n",
            "flatten (Flatten)            (None, 784)               0         \n",
            "_________________________________________________________________\n",
            "dense (Dense)                (None, 200)               157000    \n",
            "_________________________________________________________________\n",
            "dense_1 (Dense)              (None, 100)               20100     \n",
            "_________________________________________________________________\n",
            "dense_2 (Dense)              (None, 10)                1010      \n",
            "=================================================================\n",
            "Total params: 178,110\n",
            "Trainable params: 178,110\n",
            "Non-trainable params: 0\n",
            "_________________________________________________________________\n"
          ]
        }
      ]
    },
    {
      "cell_type": "code",
      "metadata": {
        "id": "129-0o3mYMII",
        "colab": {
          "base_uri": "https://localhost:8080/",
          "height": 466
        },
        "outputId": "d04e81b8-fee3-4fd6-d758-dbb473162b56"
      },
      "source": [
        "import pydot\n",
        "keras.utils.plot_model(model)"
      ],
      "execution_count": null,
      "outputs": [
        {
          "output_type": "execute_result",
          "data": {
            "image/png": "[encoded data removed]",
            "text/plain": [
              "<IPython.core.display.Image object>"
            ]
          },
          "metadata": {},
          "execution_count": 16
        }
      ]
    },
    {
      "cell_type": "code",
      "metadata": {
        "id": "TK4wDakkYgV4"
      },
      "source": [
        "weights, biases = model.layers[1].get_weights()"
      ],
      "execution_count": null,
      "outputs": []
    },
    {
      "cell_type": "code",
      "metadata": {
        "id": "RpiiCvz9YxQZ",
        "colab": {
          "base_uri": "https://localhost:8080/"
        },
        "outputId": "ffba8a03-7af1-4b64-9572-641013af3e3e"
      },
      "source": [
        "weights"
      ],
      "execution_count": null,
      "outputs": [
        {
          "output_type": "execute_result",
          "data": {
            "text/plain": [
              "array([[ 0.02570029, -0.00921319, -0.02297589, ...,  0.03759523,\n",
              "         0.01990343, -0.00419658],\n",
              "       [ 0.0493257 ,  0.07532704,  0.04591972, ...,  0.01272719,\n",
              "         0.07017377,  0.06893378],\n",
              "       [-0.00902112,  0.0490617 ,  0.01508749, ...,  0.00632862,\n",
              "        -0.02900814, -0.04371899],\n",
              "       ...,\n",
              "       [ 0.06044598,  0.02830634,  0.04788385, ..., -0.02156743,\n",
              "        -0.06206664, -0.06688078],\n",
              "       [ 0.03822813,  0.07278952,  0.02177001, ..., -0.04696669,\n",
              "        -0.04292265,  0.0316055 ],\n",
              "       [-0.01534326, -0.03178874, -0.04308994, ...,  0.00643031,\n",
              "         0.02572545, -0.03443564]], dtype=float32)"
            ]
          },
          "metadata": {},
          "execution_count": 18
        }
      ]
    },
    {
      "cell_type": "code",
      "metadata": {
        "colab": {
          "base_uri": "https://localhost:8080/"
        },
        "id": "WYBHVf8oYzIq",
        "outputId": "aa47be6c-6d26-43d3-c5ce-050bd7f5bce3"
      },
      "source": [
        "weights.shape"
      ],
      "execution_count": null,
      "outputs": [
        {
          "output_type": "execute_result",
          "data": {
            "text/plain": [
              "(784, 200)"
            ]
          },
          "metadata": {},
          "execution_count": 18
        }
      ]
    },
    {
      "cell_type": "code",
      "metadata": {
        "id": "exXJc3c8Y-JX",
        "colab": {
          "base_uri": "https://localhost:8080/"
        },
        "outputId": "5856cdb4-95fe-403b-b4b1-f1ddbc869c6a"
      },
      "source": [
        "biases"
      ],
      "execution_count": null,
      "outputs": [
        {
          "output_type": "execute_result",
          "data": {
            "text/plain": [
              "array([0., 0., 0., 0., 0., 0., 0., 0., 0., 0., 0., 0., 0., 0., 0., 0., 0.,\n",
              "       0., 0., 0., 0., 0., 0., 0., 0., 0., 0., 0., 0., 0., 0., 0., 0., 0.,\n",
              "       0., 0., 0., 0., 0., 0., 0., 0., 0., 0., 0., 0., 0., 0., 0., 0., 0.,\n",
              "       0., 0., 0., 0., 0., 0., 0., 0., 0., 0., 0., 0., 0., 0., 0., 0., 0.,\n",
              "       0., 0., 0., 0., 0., 0., 0., 0., 0., 0., 0., 0., 0., 0., 0., 0., 0.,\n",
              "       0., 0., 0., 0., 0., 0., 0., 0., 0., 0., 0., 0., 0., 0., 0., 0., 0.,\n",
              "       0., 0., 0., 0., 0., 0., 0., 0., 0., 0., 0., 0., 0., 0., 0., 0., 0.,\n",
              "       0., 0., 0., 0., 0., 0., 0., 0., 0., 0., 0., 0., 0., 0., 0., 0., 0.,\n",
              "       0., 0., 0., 0., 0., 0., 0., 0., 0., 0., 0., 0., 0., 0., 0., 0., 0.,\n",
              "       0., 0., 0., 0., 0., 0., 0., 0., 0., 0., 0., 0., 0., 0., 0., 0., 0.,\n",
              "       0., 0., 0., 0., 0., 0., 0., 0., 0., 0., 0., 0., 0., 0., 0., 0., 0.,\n",
              "       0., 0., 0., 0., 0., 0., 0., 0., 0., 0., 0., 0., 0.], dtype=float32)"
            ]
          },
          "metadata": {},
          "execution_count": 19
        }
      ]
    },
    {
      "cell_type": "code",
      "metadata": {
        "colab": {
          "base_uri": "https://localhost:8080/"
        },
        "id": "hyLONHzo6wDw",
        "outputId": "cb9a6411-063b-4517-944b-5a950606291a"
      },
      "source": [
        "biases.shape"
      ],
      "execution_count": null,
      "outputs": [
        {
          "output_type": "execute_result",
          "data": {
            "text/plain": [
              "(200,)"
            ]
          },
          "metadata": {},
          "execution_count": 20
        }
      ]
    },
    {
      "cell_type": "code",
      "metadata": {
        "id": "YaKdc1WmZSpW"
      },
      "source": [
        "model.compile(loss = \"sparse_categorical_crossentropy\",\n",
        "              optimizer = \"sgd\",\n",
        "              metrics = [\"accuracy\"])"
      ],
      "execution_count": null,
      "outputs": []
    },
    {
      "cell_type": "code",
      "metadata": {
        "id": "OG0YZCBNZ9VT",
        "colab": {
          "base_uri": "https://localhost:8080/"
        },
        "outputId": "fb80596a-9c78-4c17-bb50-8fe6314f3c23"
      },
      "source": [
        "model_history = model.fit(X_train, y_train, epochs = 60,\n",
        "                          validation_data = (X_valid, y_valid))"
      ],
      "execution_count": null,
      "outputs": [
        {
          "output_type": "stream",
          "name": "stdout",
          "text": [
            "Epoch 1/60\n",
            "1688/1688 [==============================] - 6s 3ms/step - loss: 0.6607 - accuracy: 0.8267 - val_loss: 0.3216 - val_accuracy: 0.9125\n",
            "Epoch 2/60\n",
            "1688/1688 [==============================] - 5s 3ms/step - loss: 0.3006 - accuracy: 0.9141 - val_loss: 0.2585 - val_accuracy: 0.9283\n",
            "Epoch 3/60\n",
            "1688/1688 [==============================] - 5s 3ms/step - loss: 0.2488 - accuracy: 0.9292 - val_loss: 0.2254 - val_accuracy: 0.9383\n",
            "Epoch 4/60\n",
            "1688/1688 [==============================] - 5s 3ms/step - loss: 0.2151 - accuracy: 0.9390 - val_loss: 0.1961 - val_accuracy: 0.9442\n",
            "Epoch 5/60\n",
            "1688/1688 [==============================] - 5s 3ms/step - loss: 0.1893 - accuracy: 0.9461 - val_loss: 0.1790 - val_accuracy: 0.9485\n",
            "Epoch 6/60\n",
            "1688/1688 [==============================] - 5s 3ms/step - loss: 0.1690 - accuracy: 0.9517 - val_loss: 0.1637 - val_accuracy: 0.9523\n",
            "Epoch 7/60\n",
            "1688/1688 [==============================] - 5s 3ms/step - loss: 0.1521 - accuracy: 0.9569 - val_loss: 0.1482 - val_accuracy: 0.9590\n",
            "Epoch 8/60\n",
            "1688/1688 [==============================] - 5s 3ms/step - loss: 0.1378 - accuracy: 0.9611 - val_loss: 0.1416 - val_accuracy: 0.9610\n",
            "Epoch 9/60\n",
            "1688/1688 [==============================] - 5s 3ms/step - loss: 0.1260 - accuracy: 0.9641 - val_loss: 0.1316 - val_accuracy: 0.9647\n",
            "Epoch 10/60\n",
            "1688/1688 [==============================] - 5s 3ms/step - loss: 0.1157 - accuracy: 0.9673 - val_loss: 0.1272 - val_accuracy: 0.9637\n",
            "Epoch 11/60\n",
            "1688/1688 [==============================] - 5s 3ms/step - loss: 0.1066 - accuracy: 0.9698 - val_loss: 0.1157 - val_accuracy: 0.9675\n",
            "Epoch 12/60\n",
            "1688/1688 [==============================] - 5s 3ms/step - loss: 0.0991 - accuracy: 0.9724 - val_loss: 0.1118 - val_accuracy: 0.9697\n",
            "Epoch 13/60\n",
            "1688/1688 [==============================] - 5s 3ms/step - loss: 0.0917 - accuracy: 0.9747 - val_loss: 0.1057 - val_accuracy: 0.9710\n",
            "Epoch 14/60\n",
            "1688/1688 [==============================] - 5s 3ms/step - loss: 0.0857 - accuracy: 0.9766 - val_loss: 0.1005 - val_accuracy: 0.9718\n",
            "Epoch 15/60\n",
            "1688/1688 [==============================] - 5s 3ms/step - loss: 0.0802 - accuracy: 0.9777 - val_loss: 0.0990 - val_accuracy: 0.9722\n",
            "Epoch 16/60\n",
            "1688/1688 [==============================] - 5s 3ms/step - loss: 0.0752 - accuracy: 0.9793 - val_loss: 0.0944 - val_accuracy: 0.9728\n",
            "Epoch 17/60\n",
            "1688/1688 [==============================] - 5s 3ms/step - loss: 0.0707 - accuracy: 0.9810 - val_loss: 0.0934 - val_accuracy: 0.9730\n",
            "Epoch 18/60\n",
            "1688/1688 [==============================] - 5s 3ms/step - loss: 0.0659 - accuracy: 0.9819 - val_loss: 0.0893 - val_accuracy: 0.9753\n",
            "Epoch 19/60\n",
            "1688/1688 [==============================] - 5s 3ms/step - loss: 0.0624 - accuracy: 0.9829 - val_loss: 0.0893 - val_accuracy: 0.9735\n",
            "Epoch 20/60\n",
            "1688/1688 [==============================] - 5s 3ms/step - loss: 0.0588 - accuracy: 0.9841 - val_loss: 0.0874 - val_accuracy: 0.9753\n",
            "Epoch 21/60\n",
            "1688/1688 [==============================] - 5s 3ms/step - loss: 0.0555 - accuracy: 0.9851 - val_loss: 0.0863 - val_accuracy: 0.9757\n",
            "Epoch 22/60\n",
            "1688/1688 [==============================] - 5s 3ms/step - loss: 0.0525 - accuracy: 0.9860 - val_loss: 0.0838 - val_accuracy: 0.9760\n",
            "Epoch 23/60\n",
            "1688/1688 [==============================] - 5s 3ms/step - loss: 0.0496 - accuracy: 0.9865 - val_loss: 0.0829 - val_accuracy: 0.9765\n",
            "Epoch 24/60\n",
            "1688/1688 [==============================] - 5s 3ms/step - loss: 0.0468 - accuracy: 0.9874 - val_loss: 0.0824 - val_accuracy: 0.9755\n",
            "Epoch 25/60\n",
            "1688/1688 [==============================] - 5s 3ms/step - loss: 0.0443 - accuracy: 0.9884 - val_loss: 0.0833 - val_accuracy: 0.9745\n",
            "Epoch 26/60\n",
            "1688/1688 [==============================] - 5s 3ms/step - loss: 0.0420 - accuracy: 0.9888 - val_loss: 0.0812 - val_accuracy: 0.9763\n",
            "Epoch 27/60\n",
            "1688/1688 [==============================] - 5s 3ms/step - loss: 0.0398 - accuracy: 0.9894 - val_loss: 0.0772 - val_accuracy: 0.9770\n",
            "Epoch 28/60\n",
            "1688/1688 [==============================] - 5s 3ms/step - loss: 0.0378 - accuracy: 0.9902 - val_loss: 0.0772 - val_accuracy: 0.9768\n",
            "Epoch 29/60\n",
            "1688/1688 [==============================] - 5s 3ms/step - loss: 0.0358 - accuracy: 0.9907 - val_loss: 0.0760 - val_accuracy: 0.9777\n",
            "Epoch 30/60\n",
            "1688/1688 [==============================] - 5s 3ms/step - loss: 0.0338 - accuracy: 0.9916 - val_loss: 0.0786 - val_accuracy: 0.9767\n",
            "Epoch 31/60\n",
            "1688/1688 [==============================] - 5s 3ms/step - loss: 0.0322 - accuracy: 0.9921 - val_loss: 0.0752 - val_accuracy: 0.9775\n",
            "Epoch 32/60\n",
            "1688/1688 [==============================] - 5s 3ms/step - loss: 0.0304 - accuracy: 0.9927 - val_loss: 0.0774 - val_accuracy: 0.9777\n",
            "Epoch 33/60\n",
            "1688/1688 [==============================] - 5s 3ms/step - loss: 0.0289 - accuracy: 0.9931 - val_loss: 0.0764 - val_accuracy: 0.9778\n",
            "Epoch 34/60\n",
            "1688/1688 [==============================] - 5s 3ms/step - loss: 0.0274 - accuracy: 0.9938 - val_loss: 0.0765 - val_accuracy: 0.9775\n",
            "Epoch 35/60\n",
            "1688/1688 [==============================] - 5s 3ms/step - loss: 0.0260 - accuracy: 0.9941 - val_loss: 0.0749 - val_accuracy: 0.9782\n",
            "Epoch 36/60\n",
            "1688/1688 [==============================] - 5s 3ms/step - loss: 0.0246 - accuracy: 0.9946 - val_loss: 0.0798 - val_accuracy: 0.9767\n",
            "Epoch 37/60\n",
            "1688/1688 [==============================] - 5s 3ms/step - loss: 0.0237 - accuracy: 0.9945 - val_loss: 0.0753 - val_accuracy: 0.9778\n",
            "Epoch 38/60\n",
            "1688/1688 [==============================] - 5s 3ms/step - loss: 0.0223 - accuracy: 0.9954 - val_loss: 0.0758 - val_accuracy: 0.9780\n",
            "Epoch 39/60\n",
            "1688/1688 [==============================] - 5s 3ms/step - loss: 0.0212 - accuracy: 0.9959 - val_loss: 0.0750 - val_accuracy: 0.9778\n",
            "Epoch 40/60\n",
            "1688/1688 [==============================] - 5s 3ms/step - loss: 0.0202 - accuracy: 0.9961 - val_loss: 0.0756 - val_accuracy: 0.9780\n",
            "Epoch 41/60\n",
            "1688/1688 [==============================] - 5s 3ms/step - loss: 0.0191 - accuracy: 0.9968 - val_loss: 0.0752 - val_accuracy: 0.9783\n",
            "Epoch 42/60\n",
            "1688/1688 [==============================] - 5s 3ms/step - loss: 0.0183 - accuracy: 0.9969 - val_loss: 0.0769 - val_accuracy: 0.9780\n",
            "Epoch 43/60\n",
            "1688/1688 [==============================] - 5s 3ms/step - loss: 0.0174 - accuracy: 0.9971 - val_loss: 0.0821 - val_accuracy: 0.9763\n",
            "Epoch 44/60\n",
            "1688/1688 [==============================] - 5s 3ms/step - loss: 0.0166 - accuracy: 0.9973 - val_loss: 0.0755 - val_accuracy: 0.9783\n",
            "Epoch 45/60\n",
            "1688/1688 [==============================] - 5s 3ms/step - loss: 0.0157 - accuracy: 0.9977 - val_loss: 0.0756 - val_accuracy: 0.9777\n",
            "Epoch 46/60\n",
            "1688/1688 [==============================] - 5s 3ms/step - loss: 0.0151 - accuracy: 0.9979 - val_loss: 0.0761 - val_accuracy: 0.9780\n",
            "Epoch 47/60\n",
            "1688/1688 [==============================] - 5s 3ms/step - loss: 0.0143 - accuracy: 0.9980 - val_loss: 0.0766 - val_accuracy: 0.9773\n",
            "Epoch 48/60\n",
            "1688/1688 [==============================] - 5s 3ms/step - loss: 0.0137 - accuracy: 0.9983 - val_loss: 0.0769 - val_accuracy: 0.9772\n",
            "Epoch 49/60\n",
            "1688/1688 [==============================] - 5s 3ms/step - loss: 0.0130 - accuracy: 0.9982 - val_loss: 0.0776 - val_accuracy: 0.9775\n",
            "Epoch 50/60\n",
            "1688/1688 [==============================] - 5s 3ms/step - loss: 0.0124 - accuracy: 0.9985 - val_loss: 0.0790 - val_accuracy: 0.9775\n",
            "Epoch 51/60\n",
            "1688/1688 [==============================] - 5s 3ms/step - loss: 0.0119 - accuracy: 0.9986 - val_loss: 0.0768 - val_accuracy: 0.9777\n",
            "Epoch 52/60\n",
            "1688/1688 [==============================] - 5s 3ms/step - loss: 0.0114 - accuracy: 0.9988 - val_loss: 0.0760 - val_accuracy: 0.9778\n",
            "Epoch 53/60\n",
            "1688/1688 [==============================] - 5s 3ms/step - loss: 0.0109 - accuracy: 0.9988 - val_loss: 0.0778 - val_accuracy: 0.9780\n",
            "Epoch 54/60\n",
            "1688/1688 [==============================] - 5s 3ms/step - loss: 0.0105 - accuracy: 0.9989 - val_loss: 0.0761 - val_accuracy: 0.9790\n",
            "Epoch 55/60\n",
            "1688/1688 [==============================] - 5s 3ms/step - loss: 0.0100 - accuracy: 0.9991 - val_loss: 0.0779 - val_accuracy: 0.9777\n",
            "Epoch 56/60\n",
            "1688/1688 [==============================] - 5s 3ms/step - loss: 0.0095 - accuracy: 0.9991 - val_loss: 0.0788 - val_accuracy: 0.9782\n",
            "Epoch 57/60\n",
            "1688/1688 [==============================] - 5s 3ms/step - loss: 0.0091 - accuracy: 0.9993 - val_loss: 0.0792 - val_accuracy: 0.9772\n",
            "Epoch 58/60\n",
            "1688/1688 [==============================] - 5s 3ms/step - loss: 0.0088 - accuracy: 0.9992 - val_loss: 0.0774 - val_accuracy: 0.9780\n",
            "Epoch 59/60\n",
            "1688/1688 [==============================] - 5s 3ms/step - loss: 0.0085 - accuracy: 0.9994 - val_loss: 0.0798 - val_accuracy: 0.9773\n",
            "Epoch 60/60\n",
            "1688/1688 [==============================] - 5s 3ms/step - loss: 0.0081 - accuracy: 0.9993 - val_loss: 0.0804 - val_accuracy: 0.9778\n"
          ]
        }
      ]
    },
    {
      "cell_type": "code",
      "metadata": {
        "colab": {
          "base_uri": "https://localhost:8080/"
        },
        "id": "o8c5oxkMcn4g",
        "outputId": "5858af90-6ede-43c1-8897-001b30f208e3"
      },
      "source": [
        "model_history.params"
      ],
      "execution_count": null,
      "outputs": [
        {
          "output_type": "execute_result",
          "data": {
            "text/plain": [
              "{'epochs': 60, 'steps': 1688, 'verbose': 1}"
            ]
          },
          "metadata": {},
          "execution_count": 23
        }
      ]
    },
    {
      "cell_type": "code",
      "metadata": {
        "id": "CRtAw7lsbfGk",
        "colab": {
          "base_uri": "https://localhost:8080/"
        },
        "outputId": "4f2fc528-ea0e-4ae6-a9e3-152a5bcdfea0"
      },
      "source": [
        "model_history.history"
      ],
      "execution_count": null,
      "outputs": [
        {
          "output_type": "execute_result",
          "data": {
            "text/plain": [
              "{'accuracy': [0.8267222046852112,\n",
              "  0.9140740633010864,\n",
              "  0.9292222261428833,\n",
              "  0.9390000104904175,\n",
              "  0.9461296200752258,\n",
              "  0.9517407417297363,\n",
              "  0.9569073915481567,\n",
              "  0.9611111283302307,\n",
              "  0.964129626750946,\n",
              "  0.9672777652740479,\n",
              "  0.9697592854499817,\n",
              "  0.9723703861236572,\n",
              "  0.9746851921081543,\n",
              "  0.9765740633010864,\n",
              "  0.9777407646179199,\n",
              "  0.9793333411216736,\n",
              "  0.9809814691543579,\n",
              "  0.9819074273109436,\n",
              "  0.9829444289207458,\n",
              "  0.9841481447219849,\n",
              "  0.9850925803184509,\n",
              "  0.9859814643859863,\n",
              "  0.9864814877510071,\n",
              "  0.987407386302948,\n",
              "  0.988444447517395,\n",
              "  0.9888333082199097,\n",
              "  0.9893703460693359,\n",
              "  0.9902222156524658,\n",
              "  0.9907222390174866,\n",
              "  0.9915555715560913,\n",
              "  0.9920555353164673,\n",
              "  0.9926851987838745,\n",
              "  0.9931296110153198,\n",
              "  0.9937777519226074,\n",
              "  0.9941296577453613,\n",
              "  0.9946296215057373,\n",
              "  0.9944815039634705,\n",
              "  0.9953703880310059,\n",
              "  0.9958703517913818,\n",
              "  0.9960926175117493,\n",
              "  0.9967963099479675,\n",
              "  0.9969074130058289,\n",
              "  0.9971481561660767,\n",
              "  0.9972777962684631,\n",
              "  0.9976666569709778,\n",
              "  0.9979259371757507,\n",
              "  0.9979629516601562,\n",
              "  0.9983333349227905,\n",
              "  0.9981851577758789,\n",
              "  0.9985370635986328,\n",
              "  0.9985926151275635,\n",
              "  0.9987592697143555,\n",
              "  0.9988333582878113,\n",
              "  0.9989073872566223,\n",
              "  0.9990741014480591,\n",
              "  0.9991296529769897,\n",
              "  0.9992777705192566,\n",
              "  0.9991852045059204,\n",
              "  0.9993518590927124,\n",
              "  0.9993148446083069],\n",
              " 'loss': [0.6606810092926025,\n",
              "  0.30064913630485535,\n",
              "  0.24880097806453705,\n",
              "  0.21511712670326233,\n",
              "  0.1892853081226349,\n",
              "  0.16897645592689514,\n",
              "  0.15210594236850739,\n",
              "  0.13782566785812378,\n",
              "  0.12603865563869476,\n",
              "  0.1157192587852478,\n",
              "  0.10662887990474701,\n",
              "  0.09909642487764359,\n",
              "  0.09172069281339645,\n",
              "  0.08567151427268982,\n",
              "  0.08015034347772598,\n",
              "  0.0751664787530899,\n",
              "  0.07066995650529861,\n",
              "  0.06591235846281052,\n",
              "  0.06244279071688652,\n",
              "  0.058757781982421875,\n",
              "  0.05552103742957115,\n",
              "  0.05248873680830002,\n",
              "  0.049583565443754196,\n",
              "  0.04680728539824486,\n",
              "  0.04428282752633095,\n",
              "  0.042032383382320404,\n",
              "  0.03982358053326607,\n",
              "  0.03778640553355217,\n",
              "  0.03576228767633438,\n",
              "  0.033825475722551346,\n",
              "  0.03215257078409195,\n",
              "  0.030358310788869858,\n",
              "  0.028942804783582687,\n",
              "  0.027379492297768593,\n",
              "  0.025989282876253128,\n",
              "  0.024648349732160568,\n",
              "  0.023667193949222565,\n",
              "  0.022304581478238106,\n",
              "  0.021184394136071205,\n",
              "  0.02020447887480259,\n",
              "  0.019128333777189255,\n",
              "  0.018271315842866898,\n",
              "  0.017398079857230186,\n",
              "  0.016635309904813766,\n",
              "  0.01572955958545208,\n",
              "  0.01505233533680439,\n",
              "  0.014309129677712917,\n",
              "  0.013676641508936882,\n",
              "  0.013025199994444847,\n",
              "  0.012416745536029339,\n",
              "  0.011933661997318268,\n",
              "  0.011356581933796406,\n",
              "  0.01091091986745596,\n",
              "  0.010479085147380829,\n",
              "  0.009990153834223747,\n",
              "  0.009491490200161934,\n",
              "  0.009090662933886051,\n",
              "  0.00880825612694025,\n",
              "  0.008454042486846447,\n",
              "  0.008067088201642036],\n",
              " 'val_accuracy': [0.9125000238418579,\n",
              "  0.9283333420753479,\n",
              "  0.9383333325386047,\n",
              "  0.9441666603088379,\n",
              "  0.9484999775886536,\n",
              "  0.9523333311080933,\n",
              "  0.9589999914169312,\n",
              "  0.9610000252723694,\n",
              "  0.9646666646003723,\n",
              "  0.9636666774749756,\n",
              "  0.9674999713897705,\n",
              "  0.9696666598320007,\n",
              "  0.9710000157356262,\n",
              "  0.971833348274231,\n",
              "  0.9721666574478149,\n",
              "  0.9728333353996277,\n",
              "  0.9729999899864197,\n",
              "  0.9753333330154419,\n",
              "  0.9735000133514404,\n",
              "  0.9753333330154419,\n",
              "  0.9756666421890259,\n",
              "  0.9760000109672546,\n",
              "  0.9764999747276306,\n",
              "  0.9754999876022339,\n",
              "  0.9745000004768372,\n",
              "  0.9763333201408386,\n",
              "  0.9769999980926514,\n",
              "  0.9768333435058594,\n",
              "  0.9776666760444641,\n",
              "  0.9766666889190674,\n",
              "  0.9775000214576721,\n",
              "  0.9776666760444641,\n",
              "  0.9778333306312561,\n",
              "  0.9775000214576721,\n",
              "  0.9781666398048401,\n",
              "  0.9766666889190674,\n",
              "  0.9778333306312561,\n",
              "  0.9779999852180481,\n",
              "  0.9778333306312561,\n",
              "  0.9779999852180481,\n",
              "  0.9783333539962769,\n",
              "  0.9779999852180481,\n",
              "  0.9763333201408386,\n",
              "  0.9783333539962769,\n",
              "  0.9776666760444641,\n",
              "  0.9779999852180481,\n",
              "  0.9773333072662354,\n",
              "  0.9771666526794434,\n",
              "  0.9775000214576721,\n",
              "  0.9775000214576721,\n",
              "  0.9776666760444641,\n",
              "  0.9778333306312561,\n",
              "  0.9779999852180481,\n",
              "  0.9789999723434448,\n",
              "  0.9776666760444641,\n",
              "  0.9781666398048401,\n",
              "  0.9771666526794434,\n",
              "  0.9779999852180481,\n",
              "  0.9773333072662354,\n",
              "  0.9778333306312561],\n",
              " 'val_loss': [0.32164785265922546,\n",
              "  0.25854185223579407,\n",
              "  0.22538582980632782,\n",
              "  0.1960677057504654,\n",
              "  0.17900942265987396,\n",
              "  0.1636982560157776,\n",
              "  0.14817063510417938,\n",
              "  0.14162112772464752,\n",
              "  0.13155497610569,\n",
              "  0.1272284835577011,\n",
              "  0.11571422219276428,\n",
              "  0.11176818609237671,\n",
              "  0.10568267852067947,\n",
              "  0.10046028345823288,\n",
              "  0.0990079715847969,\n",
              "  0.09438341110944748,\n",
              "  0.0933690071105957,\n",
              "  0.08927656710147858,\n",
              "  0.08934781700372696,\n",
              "  0.08737105131149292,\n",
              "  0.08632635325193405,\n",
              "  0.08376104384660721,\n",
              "  0.08294429630041122,\n",
              "  0.08241671323776245,\n",
              "  0.08332705497741699,\n",
              "  0.08115227520465851,\n",
              "  0.0771697461605072,\n",
              "  0.07720837742090225,\n",
              "  0.0760130062699318,\n",
              "  0.07855477184057236,\n",
              "  0.07515117526054382,\n",
              "  0.07735857367515564,\n",
              "  0.07641927897930145,\n",
              "  0.07645034790039062,\n",
              "  0.07485132664442062,\n",
              "  0.07982057332992554,\n",
              "  0.07534945011138916,\n",
              "  0.07583047449588776,\n",
              "  0.0749741867184639,\n",
              "  0.07561115175485611,\n",
              "  0.0752444788813591,\n",
              "  0.07688622176647186,\n",
              "  0.08206888288259506,\n",
              "  0.07552315294742584,\n",
              "  0.0756029412150383,\n",
              "  0.07608500868082047,\n",
              "  0.07659802585840225,\n",
              "  0.07686163485050201,\n",
              "  0.07760194689035416,\n",
              "  0.07897505909204483,\n",
              "  0.07676050812005997,\n",
              "  0.07603462785482407,\n",
              "  0.07784213870763779,\n",
              "  0.07613949477672577,\n",
              "  0.07789845764636993,\n",
              "  0.07878606021404266,\n",
              "  0.07917767018079758,\n",
              "  0.07735566049814224,\n",
              "  0.07982140779495239,\n",
              "  0.08038059622049332]}"
            ]
          },
          "metadata": {},
          "execution_count": 24
        }
      ]
    },
    {
      "cell_type": "code",
      "metadata": {
        "colab": {
          "base_uri": "https://localhost:8080/",
          "height": 324
        },
        "id": "mJyYsL3tbiox",
        "outputId": "5601870b-87b1-47a6-9606-d7d8c3242773"
      },
      "source": [
        "import pandas as pd\n",
        "pd.DataFrame(model_history.history).plot(figsize = (8,5))\n",
        "plt.grid(True)\n",
        "plt.gca().set_ylim(0,1)\n",
        "plt.show()"
      ],
      "execution_count": null,
      "outputs": [
        {
          "output_type": "display_data",
          "data": {
            "image/png": "[encoded data removed]",
            "text/plain": [
              "<Figure size 576x360 with 1 Axes>"
            ]
          },
          "metadata": {
            "needs_background": "light"
          }
        }
      ]
    },
    {
      "cell_type": "code",
      "metadata": {
        "id": "XwtBMpQtds6M",
        "colab": {
          "base_uri": "https://localhost:8080/"
        },
        "outputId": "2a24cccb-f6be-498e-aa87-2ef0b635e299"
      },
      "source": [
        "model.evaluate(X_test, y_test)"
      ],
      "execution_count": null,
      "outputs": [
        {
          "output_type": "stream",
          "name": "stdout",
          "text": [
            "313/313 [==============================] - 1s 2ms/step - loss: 0.0738 - accuracy: 0.9794\n"
          ]
        },
        {
          "output_type": "execute_result",
          "data": {
            "text/plain": [
              "[0.07376761734485626, 0.9793999791145325]"
            ]
          },
          "metadata": {},
          "execution_count": 26
        }
      ]
    },
    {
      "cell_type": "code",
      "metadata": {
        "id": "AxMV3FdoeIbL"
      },
      "source": [
        "X_new = X_test[:5]"
      ],
      "execution_count": null,
      "outputs": []
    },
    {
      "cell_type": "code",
      "metadata": {
        "id": "bMHYT93ceOm5",
        "colab": {
          "base_uri": "https://localhost:8080/"
        },
        "outputId": "80bb047a-051b-4286-94e2-06d5a6998b90"
      },
      "source": [
        "y_prob = model.predict(X_new)\n",
        "y_prob.round(2)"
      ],
      "execution_count": null,
      "outputs": [
        {
          "output_type": "execute_result",
          "data": {
            "text/plain": [
              "array([[0., 0., 0., 0., 0., 0., 0., 1., 0., 0.],\n",
              "       [0., 0., 1., 0., 0., 0., 0., 0., 0., 0.],\n",
              "       [0., 1., 0., 0., 0., 0., 0., 0., 0., 0.],\n",
              "       [1., 0., 0., 0., 0., 0., 0., 0., 0., 0.],\n",
              "       [0., 0., 0., 0., 1., 0., 0., 0., 0., 0.]], dtype=float32)"
            ]
          },
          "metadata": {},
          "execution_count": 28
        }
      ]
    },
    {
      "cell_type": "code",
      "metadata": {
        "id": "Y6i5_BC9eZou",
        "colab": {
          "base_uri": "https://localhost:8080/"
        },
        "outputId": "8bacc465-b0d7-4eca-bcee-71114700944f"
      },
      "source": [
        "y_pred = model.predict(X_new)\n",
        "y_pred"
      ],
      "execution_count": null,
      "outputs": [
        {
          "output_type": "execute_result",
          "data": {
            "text/plain": [
              "array([[1.20337020e-07, 2.07988582e-09, 1.81925327e-06, 6.05154601e-05,\n",
              "        7.36475048e-10, 2.04654484e-07, 3.21777246e-13, 9.99926090e-01,\n",
              "        8.25253267e-07, 1.03299853e-05],\n",
              "       [1.90820559e-09, 5.92069114e-07, 9.99998093e-01, 1.33825745e-06,\n",
              "        1.25148260e-15, 1.66231584e-10, 7.90063748e-09, 5.70272873e-17,\n",
              "        1.31182745e-08, 8.44633214e-18],\n",
              "       [1.26128759e-06, 9.99405503e-01, 9.25203312e-06, 1.73710941e-06,\n",
              "        2.28048215e-04, 1.92243465e-06, 1.57714130e-05, 2.53643317e-04,\n",
              "        8.16969259e-05, 1.13552869e-06],\n",
              "       [9.99998927e-01, 3.98276292e-08, 3.21891605e-07, 1.13750764e-09,\n",
              "        1.56162514e-08, 6.59744259e-10, 3.30513302e-07, 3.01289873e-07,\n",
              "        4.06150114e-12, 1.44430771e-07],\n",
              "       [7.86818816e-07, 1.18469954e-08, 1.31028273e-08, 1.24133537e-10,\n",
              "        9.98786271e-01, 3.60190699e-09, 6.91118146e-07, 2.67260725e-06,\n",
              "        2.45922877e-07, 1.20923633e-03]], dtype=float32)"
            ]
          },
          "metadata": {},
          "execution_count": 29
        }
      ]
    },
    {
      "cell_type": "code",
      "metadata": {
        "id": "SNhfW4i8eoqR"
      },
      "source": [
        "y_pred = model.predict(X_new)\n",
        "y_pred_classes = np.argmax(y_pred,axis = 1) "
      ],
      "execution_count": null,
      "outputs": []
    },
    {
      "cell_type": "code",
      "metadata": {
        "id": "itIL5GRgi8Se",
        "colab": {
          "base_uri": "https://localhost:8080/"
        },
        "outputId": "c5017bfd-2c1c-47e9-9d94-32de26cfbf4f"
      },
      "source": [
        "print(y_pred_classes)"
      ],
      "execution_count": null,
      "outputs": [
        {
          "output_type": "stream",
          "name": "stdout",
          "text": [
            "[7 2 1 0 4]\n"
          ]
        }
      ]
    },
    {
      "cell_type": "code",
      "metadata": {
        "colab": {
          "base_uri": "https://localhost:8080/",
          "height": 282
        },
        "id": "nF9LNfWAeyoS",
        "outputId": "fcc7de1b-6633-4104-d07e-0bc0cf52c31f"
      },
      "source": [
        "print(plt.imshow(X_test[0]))"
      ],
      "execution_count": null,
      "outputs": [
        {
          "output_type": "stream",
          "name": "stdout",
          "text": [
            "AxesImage(54,36;334.8x217.44)\n"
          ]
        },
        {
          "output_type": "display_data",
          "data": {
            "image/png": "[encoded data removed]",
            "text/plain": [
              "<Figure size 432x288 with 1 Axes>"
            ]
          },
          "metadata": {
            "needs_background": "light"
          }
        }
      ]
    },
    {
      "cell_type": "code",
      "metadata": {
        "colab": {
          "base_uri": "https://localhost:8080/",
          "height": 282
        },
        "id": "3ShxJGs0g7ha",
        "outputId": "204e3d77-376d-49d5-884d-c0e034b17d72"
      },
      "source": [
        "print(plt.imshow(X_test[1]))"
      ],
      "execution_count": null,
      "outputs": [
        {
          "output_type": "stream",
          "name": "stdout",
          "text": [
            "AxesImage(54,36;334.8x217.44)\n"
          ]
        },
        {
          "output_type": "display_data",
          "data": {
            "image/png": "[encoded data removed]",
            "text/plain": [
              "<Figure size 432x288 with 1 Axes>"
            ]
          },
          "metadata": {
            "needs_background": "light"
          }
        }
      ]
    },
    {
      "cell_type": "code",
      "metadata": {
        "colab": {
          "base_uri": "https://localhost:8080/",
          "height": 282
        },
        "id": "VakeVVc4hASW",
        "outputId": "99b24cac-4999-4a29-bfe8-daedac4770be"
      },
      "source": [
        "print(plt.imshow(X_test[2]))"
      ],
      "execution_count": null,
      "outputs": [
        {
          "output_type": "stream",
          "name": "stdout",
          "text": [
            "AxesImage(54,36;334.8x217.44)\n"
          ]
        },
        {
          "output_type": "display_data",
          "data": {
            "image/png": "[encoded data removed]",
            "text/plain": [
              "<Figure size 432x288 with 1 Axes>"
            ]
          },
          "metadata": {
            "needs_background": "light"
          }
        }
      ]
    },
    {
      "cell_type": "code",
      "metadata": {
        "colab": {
          "base_uri": "https://localhost:8080/",
          "height": 282
        },
        "id": "UceJSljUhDR3",
        "outputId": "69eb3b90-bf01-4c84-b1c3-bc77d15c4468"
      },
      "source": [
        "print(plt.imshow(X_test[3]))"
      ],
      "execution_count": null,
      "outputs": [
        {
          "output_type": "stream",
          "name": "stdout",
          "text": [
            "AxesImage(54,36;334.8x217.44)\n"
          ]
        },
        {
          "output_type": "display_data",
          "data": {
            "image/png": "[encoded data removed]",
            "text/plain": [
              "<Figure size 432x288 with 1 Axes>"
            ]
          },
          "metadata": {
            "needs_background": "light"
          }
        }
      ]
    },
    {
      "cell_type": "code",
      "metadata": {
        "colab": {
          "base_uri": "https://localhost:8080/",
          "height": 282
        },
        "id": "YSFpYEchhFtA",
        "outputId": "6cad839f-9995-448d-9b7c-26b043bfcd07"
      },
      "source": [
        "print(plt.imshow(X_test[4]))"
      ],
      "execution_count": null,
      "outputs": [
        {
          "output_type": "stream",
          "name": "stdout",
          "text": [
            "AxesImage(54,36;334.8x217.44)\n"
          ]
        },
        {
          "output_type": "display_data",
          "data": {
            "image/png": "[encoded data removed]",
            "text/plain": [
              "<Figure size 432x288 with 1 Axes>"
            ]
          },
          "metadata": {
            "needs_background": "light"
          }
        }
      ]
    }
  ]
}